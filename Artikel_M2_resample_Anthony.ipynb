{
 "cells": [
  {
   "attachments": {},
   "cell_type": "markdown",
   "metadata": {},
   "source": [
    "# Mengenal Function Resample di Python"
   ]
  },
  {
   "attachments": {},
   "cell_type": "markdown",
   "metadata": {},
   "source": [
    "# Pendahuluan\n",
    "\n",
    "Time series data adalah informasi yang sangat penting dan biasa digunakan dalam analisa, khususnya di bidang finance. Time series data mencakup informasi mengenai tanggal dan waktu. Analisa yang biasa dilakukan untuk tipe data ini adalah untuk melihat tren, pola, atau perubahan suatu variabel dari waktu ke waktu. Pandas merupakan salah satu library Python yang sangat berguna untuk menganalisis dan memanipulasi data, termasuk time series data.\n",
    "\n",
    "Function resammple digunakan untuk mengubah frekuensi waktu, sebagai contoh jika kita memiliki data dengan frekuensi tinggi seperti harian (daily), kita bisa mengubah frekuensi-nya menjadi bulanan (monthly) untuk mengidentifikasi tren jangka panjang. Sebaliknya jika kita memiliki data dengan frekuensi rendah seperti tahunan kita bisa mengubah frekuensinya menjadi bulanan untuk menganalisa data dengan lebih detail pada tahun tersebut."
   ]
  },
  {
   "attachments": {},
   "cell_type": "markdown",
   "metadata": {},
   "source": [
    "# Time Series Data"
   ]
  },
  {
   "cell_type": "code",
   "execution_count": 2,
   "metadata": {},
   "outputs": [],
   "source": [
    "import pandas as pd \n",
    "import numpy as np \n",
    "import matplotlib.pyplot as plt\n",
    "import seaborn as sns"
   ]
  },
  {
   "cell_type": "code",
   "execution_count": 3,
   "metadata": {},
   "outputs": [
    {
     "data": {
      "text/html": [
       "<div>\n",
       "<style scoped>\n",
       "    .dataframe tbody tr th:only-of-type {\n",
       "        vertical-align: middle;\n",
       "    }\n",
       "\n",
       "    .dataframe tbody tr th {\n",
       "        vertical-align: top;\n",
       "    }\n",
       "\n",
       "    .dataframe thead th {\n",
       "        text-align: right;\n",
       "    }\n",
       "</style>\n",
       "<table border=\"1\" class=\"dataframe\">\n",
       "  <thead>\n",
       "    <tr style=\"text-align: right;\">\n",
       "      <th></th>\n",
       "      <th>Date</th>\n",
       "      <th>Symbol</th>\n",
       "      <th>Open</th>\n",
       "      <th>High</th>\n",
       "      <th>Low</th>\n",
       "      <th>Close</th>\n",
       "      <th>Volume</th>\n",
       "    </tr>\n",
       "  </thead>\n",
       "  <tbody>\n",
       "    <tr>\n",
       "      <th>0</th>\n",
       "      <td>2020-03-13 08-PM</td>\n",
       "      <td>ETHUSD</td>\n",
       "      <td>129.94</td>\n",
       "      <td>131.82</td>\n",
       "      <td>126.87</td>\n",
       "      <td>128.71</td>\n",
       "      <td>1940673.93</td>\n",
       "    </tr>\n",
       "    <tr>\n",
       "      <th>1</th>\n",
       "      <td>2020-03-13 07-PM</td>\n",
       "      <td>ETHUSD</td>\n",
       "      <td>119.51</td>\n",
       "      <td>132.02</td>\n",
       "      <td>117.10</td>\n",
       "      <td>129.94</td>\n",
       "      <td>7579741.09</td>\n",
       "    </tr>\n",
       "    <tr>\n",
       "      <th>2</th>\n",
       "      <td>2020-03-13 06-PM</td>\n",
       "      <td>ETHUSD</td>\n",
       "      <td>124.47</td>\n",
       "      <td>124.85</td>\n",
       "      <td>115.50</td>\n",
       "      <td>119.51</td>\n",
       "      <td>4898735.81</td>\n",
       "    </tr>\n",
       "    <tr>\n",
       "      <th>3</th>\n",
       "      <td>2020-03-13 05-PM</td>\n",
       "      <td>ETHUSD</td>\n",
       "      <td>124.08</td>\n",
       "      <td>127.42</td>\n",
       "      <td>121.63</td>\n",
       "      <td>124.47</td>\n",
       "      <td>2753450.92</td>\n",
       "    </tr>\n",
       "    <tr>\n",
       "      <th>4</th>\n",
       "      <td>2020-03-13 04-PM</td>\n",
       "      <td>ETHUSD</td>\n",
       "      <td>124.85</td>\n",
       "      <td>129.51</td>\n",
       "      <td>120.17</td>\n",
       "      <td>124.08</td>\n",
       "      <td>4461424.71</td>\n",
       "    </tr>\n",
       "  </tbody>\n",
       "</table>\n",
       "</div>"
      ],
      "text/plain": [
       "               Date  Symbol    Open    High     Low   Close      Volume\n",
       "0  2020-03-13 08-PM  ETHUSD  129.94  131.82  126.87  128.71  1940673.93\n",
       "1  2020-03-13 07-PM  ETHUSD  119.51  132.02  117.10  129.94  7579741.09\n",
       "2  2020-03-13 06-PM  ETHUSD  124.47  124.85  115.50  119.51  4898735.81\n",
       "3  2020-03-13 05-PM  ETHUSD  124.08  127.42  121.63  124.47  2753450.92\n",
       "4  2020-03-13 04-PM  ETHUSD  124.85  129.51  120.17  124.08  4461424.71"
      ]
     },
     "execution_count": 3,
     "metadata": {},
     "output_type": "execute_result"
    }
   ],
   "source": [
    "df = pd.read_csv('ETH_1h.csv')\n",
    "df.head()"
   ]
  },
  {
   "cell_type": "code",
   "execution_count": 4,
   "metadata": {},
   "outputs": [
    {
     "name": "stdout",
     "output_type": "stream",
     "text": [
      "<class 'pandas.core.frame.DataFrame'>\n",
      "RangeIndex: 23674 entries, 0 to 23673\n",
      "Data columns (total 7 columns):\n",
      " #   Column  Non-Null Count  Dtype  \n",
      "---  ------  --------------  -----  \n",
      " 0   Date    23674 non-null  object \n",
      " 1   Symbol  23674 non-null  object \n",
      " 2   Open    23674 non-null  float64\n",
      " 3   High    23674 non-null  float64\n",
      " 4   Low     23674 non-null  float64\n",
      " 5   Close   23674 non-null  float64\n",
      " 6   Volume  23674 non-null  float64\n",
      "dtypes: float64(5), object(2)\n",
      "memory usage: 1.3+ MB\n"
     ]
    }
   ],
   "source": [
    "df.info()"
   ]
  },
  {
   "attachments": {},
   "cell_type": "markdown",
   "metadata": {},
   "source": [
    "Untuk melakukan resample, data yang digunakan harus bertipe datetime. Saat ini kolom 'Date' bertipe data object, mari kita ubah tipe data-nya menjadi date-time"
   ]
  },
  {
   "cell_type": "code",
   "execution_count": 5,
   "metadata": {},
   "outputs": [],
   "source": [
    "df['Date'] = pd.to_datetime(df['Date'], format= '%Y-%m-%d %I-%p')"
   ]
  },
  {
   "attachments": {},
   "cell_type": "markdown",
   "metadata": {},
   "source": [
    "Argumen **Format=** digunakan untuk menentukan format penulisan data date-time, kita harus menggunakan argumen ini karena format penulisan date-time pada dataset kita tidak bisa diinterpretasi langsung oleh pandas. Jika kita tidak menggunakan argumen ini maka akan muncul error.\n",
    "\n",
    "Format:\n",
    "- %Y: Tahun dengan empat digit \n",
    "- %m: Bulan dalam format angka\n",
    "- %d: Hari dalam fomat angka  \n",
    "- %I: Jam dalam format 12 jam\n",
    "- %p: Penanda AM/PM  \n",
    "\n",
    "Format penulisan yang biasa digunakan dan dapat diidentifikasi langsung oleh panda adalah sebagai berikut YYYY-MM-DD HH:MM:SS\" atau \"YYYY-MM-DDTHH:MM:SS\".<br>\n",
    "Jika data yang ingin kita ubah memiliki format itu, kita tidak perlu menggunakan argumen **format=** saat merubah tipe data."
   ]
  },
  {
   "cell_type": "code",
   "execution_count": 6,
   "metadata": {},
   "outputs": [
    {
     "name": "stdout",
     "output_type": "stream",
     "text": [
      "<class 'pandas.core.frame.DataFrame'>\n",
      "RangeIndex: 23674 entries, 0 to 23673\n",
      "Data columns (total 7 columns):\n",
      " #   Column  Non-Null Count  Dtype         \n",
      "---  ------  --------------  -----         \n",
      " 0   Date    23674 non-null  datetime64[ns]\n",
      " 1   Symbol  23674 non-null  object        \n",
      " 2   Open    23674 non-null  float64       \n",
      " 3   High    23674 non-null  float64       \n",
      " 4   Low     23674 non-null  float64       \n",
      " 5   Close   23674 non-null  float64       \n",
      " 6   Volume  23674 non-null  float64       \n",
      "dtypes: datetime64[ns](1), float64(5), object(1)\n",
      "memory usage: 1.3+ MB\n"
     ]
    }
   ],
   "source": [
    "df.info()"
   ]
  },
  {
   "attachments": {},
   "cell_type": "markdown",
   "metadata": {},
   "source": [
    "Setelah kita mengubah tipe datanya, untuk menggunakan function kita harus membuat kolom 'Date' menjadi index. Karena function resample hanya bisa digunakan untuk index"
   ]
  },
  {
   "cell_type": "code",
   "execution_count": 7,
   "metadata": {},
   "outputs": [
    {
     "data": {
      "text/html": [
       "<div>\n",
       "<style scoped>\n",
       "    .dataframe tbody tr th:only-of-type {\n",
       "        vertical-align: middle;\n",
       "    }\n",
       "\n",
       "    .dataframe tbody tr th {\n",
       "        vertical-align: top;\n",
       "    }\n",
       "\n",
       "    .dataframe thead th {\n",
       "        text-align: right;\n",
       "    }\n",
       "</style>\n",
       "<table border=\"1\" class=\"dataframe\">\n",
       "  <thead>\n",
       "    <tr style=\"text-align: right;\">\n",
       "      <th></th>\n",
       "      <th>Symbol</th>\n",
       "      <th>Open</th>\n",
       "      <th>High</th>\n",
       "      <th>Low</th>\n",
       "      <th>Close</th>\n",
       "      <th>Volume</th>\n",
       "    </tr>\n",
       "    <tr>\n",
       "      <th>Date</th>\n",
       "      <th></th>\n",
       "      <th></th>\n",
       "      <th></th>\n",
       "      <th></th>\n",
       "      <th></th>\n",
       "      <th></th>\n",
       "    </tr>\n",
       "  </thead>\n",
       "  <tbody>\n",
       "    <tr>\n",
       "      <th>2020-03-13 20:00:00</th>\n",
       "      <td>ETHUSD</td>\n",
       "      <td>129.94</td>\n",
       "      <td>131.82</td>\n",
       "      <td>126.87</td>\n",
       "      <td>128.71</td>\n",
       "      <td>1940673.93</td>\n",
       "    </tr>\n",
       "    <tr>\n",
       "      <th>2020-03-13 19:00:00</th>\n",
       "      <td>ETHUSD</td>\n",
       "      <td>119.51</td>\n",
       "      <td>132.02</td>\n",
       "      <td>117.10</td>\n",
       "      <td>129.94</td>\n",
       "      <td>7579741.09</td>\n",
       "    </tr>\n",
       "    <tr>\n",
       "      <th>2020-03-13 18:00:00</th>\n",
       "      <td>ETHUSD</td>\n",
       "      <td>124.47</td>\n",
       "      <td>124.85</td>\n",
       "      <td>115.50</td>\n",
       "      <td>119.51</td>\n",
       "      <td>4898735.81</td>\n",
       "    </tr>\n",
       "    <tr>\n",
       "      <th>2020-03-13 17:00:00</th>\n",
       "      <td>ETHUSD</td>\n",
       "      <td>124.08</td>\n",
       "      <td>127.42</td>\n",
       "      <td>121.63</td>\n",
       "      <td>124.47</td>\n",
       "      <td>2753450.92</td>\n",
       "    </tr>\n",
       "    <tr>\n",
       "      <th>2020-03-13 16:00:00</th>\n",
       "      <td>ETHUSD</td>\n",
       "      <td>124.85</td>\n",
       "      <td>129.51</td>\n",
       "      <td>120.17</td>\n",
       "      <td>124.08</td>\n",
       "      <td>4461424.71</td>\n",
       "    </tr>\n",
       "  </tbody>\n",
       "</table>\n",
       "</div>"
      ],
      "text/plain": [
       "                     Symbol    Open    High     Low   Close      Volume\n",
       "Date                                                                   \n",
       "2020-03-13 20:00:00  ETHUSD  129.94  131.82  126.87  128.71  1940673.93\n",
       "2020-03-13 19:00:00  ETHUSD  119.51  132.02  117.10  129.94  7579741.09\n",
       "2020-03-13 18:00:00  ETHUSD  124.47  124.85  115.50  119.51  4898735.81\n",
       "2020-03-13 17:00:00  ETHUSD  124.08  127.42  121.63  124.47  2753450.92\n",
       "2020-03-13 16:00:00  ETHUSD  124.85  129.51  120.17  124.08  4461424.71"
      ]
     },
     "execution_count": 7,
     "metadata": {},
     "output_type": "execute_result"
    }
   ],
   "source": [
    "df = df.set_index('Date')\n",
    "df.head()"
   ]
  },
  {
   "cell_type": "code",
   "execution_count": 8,
   "metadata": {},
   "outputs": [
    {
     "name": "stdout",
     "output_type": "stream",
     "text": [
      "<class 'pandas.core.frame.DataFrame'>\n",
      "DatetimeIndex: 23674 entries, 2020-03-13 20:00:00 to 2017-07-01 11:00:00\n",
      "Data columns (total 6 columns):\n",
      " #   Column  Non-Null Count  Dtype  \n",
      "---  ------  --------------  -----  \n",
      " 0   Symbol  23674 non-null  object \n",
      " 1   Open    23674 non-null  float64\n",
      " 2   High    23674 non-null  float64\n",
      " 3   Low     23674 non-null  float64\n",
      " 4   Close   23674 non-null  float64\n",
      " 5   Volume  23674 non-null  float64\n",
      "dtypes: float64(5), object(1)\n",
      "memory usage: 1.3+ MB\n"
     ]
    }
   ],
   "source": [
    "df.info()"
   ]
  },
  {
   "attachments": {},
   "cell_type": "markdown",
   "metadata": {},
   "source": [
    "Kelebihan lain jika index kita berupa datetime adalah kita dapat dengan mudah melakukan slicing atau mem-filter data kita berdasarkan waktu"
   ]
  },
  {
   "cell_type": "code",
   "execution_count": 9,
   "metadata": {},
   "outputs": [
    {
     "data": {
      "text/html": [
       "<div>\n",
       "<style scoped>\n",
       "    .dataframe tbody tr th:only-of-type {\n",
       "        vertical-align: middle;\n",
       "    }\n",
       "\n",
       "    .dataframe tbody tr th {\n",
       "        vertical-align: top;\n",
       "    }\n",
       "\n",
       "    .dataframe thead th {\n",
       "        text-align: right;\n",
       "    }\n",
       "</style>\n",
       "<table border=\"1\" class=\"dataframe\">\n",
       "  <thead>\n",
       "    <tr style=\"text-align: right;\">\n",
       "      <th></th>\n",
       "      <th>Symbol</th>\n",
       "      <th>Open</th>\n",
       "      <th>High</th>\n",
       "      <th>Low</th>\n",
       "      <th>Close</th>\n",
       "      <th>Volume</th>\n",
       "    </tr>\n",
       "    <tr>\n",
       "      <th>Date</th>\n",
       "      <th></th>\n",
       "      <th></th>\n",
       "      <th></th>\n",
       "      <th></th>\n",
       "      <th></th>\n",
       "      <th></th>\n",
       "    </tr>\n",
       "  </thead>\n",
       "  <tbody>\n",
       "    <tr>\n",
       "      <th>2019-12-31 23:00:00</th>\n",
       "      <td>ETHUSD</td>\n",
       "      <td>128.33</td>\n",
       "      <td>128.69</td>\n",
       "      <td>128.14</td>\n",
       "      <td>128.54</td>\n",
       "      <td>440678.91</td>\n",
       "    </tr>\n",
       "    <tr>\n",
       "      <th>2019-12-31 22:00:00</th>\n",
       "      <td>ETHUSD</td>\n",
       "      <td>128.38</td>\n",
       "      <td>128.69</td>\n",
       "      <td>127.95</td>\n",
       "      <td>128.33</td>\n",
       "      <td>554646.02</td>\n",
       "    </tr>\n",
       "    <tr>\n",
       "      <th>2019-12-31 21:00:00</th>\n",
       "      <td>ETHUSD</td>\n",
       "      <td>127.86</td>\n",
       "      <td>128.43</td>\n",
       "      <td>127.72</td>\n",
       "      <td>128.38</td>\n",
       "      <td>350155.69</td>\n",
       "    </tr>\n",
       "    <tr>\n",
       "      <th>2019-12-31 20:00:00</th>\n",
       "      <td>ETHUSD</td>\n",
       "      <td>127.84</td>\n",
       "      <td>128.34</td>\n",
       "      <td>127.71</td>\n",
       "      <td>127.86</td>\n",
       "      <td>428183.38</td>\n",
       "    </tr>\n",
       "    <tr>\n",
       "      <th>2019-12-31 19:00:00</th>\n",
       "      <td>ETHUSD</td>\n",
       "      <td>128.69</td>\n",
       "      <td>128.69</td>\n",
       "      <td>127.60</td>\n",
       "      <td>127.84</td>\n",
       "      <td>1169847.84</td>\n",
       "    </tr>\n",
       "    <tr>\n",
       "      <th>...</th>\n",
       "      <td>...</td>\n",
       "      <td>...</td>\n",
       "      <td>...</td>\n",
       "      <td>...</td>\n",
       "      <td>...</td>\n",
       "      <td>...</td>\n",
       "    </tr>\n",
       "    <tr>\n",
       "      <th>2019-01-01 04:00:00</th>\n",
       "      <td>ETHUSD</td>\n",
       "      <td>130.75</td>\n",
       "      <td>133.96</td>\n",
       "      <td>130.74</td>\n",
       "      <td>131.96</td>\n",
       "      <td>2791135.37</td>\n",
       "    </tr>\n",
       "    <tr>\n",
       "      <th>2019-01-01 03:00:00</th>\n",
       "      <td>ETHUSD</td>\n",
       "      <td>130.06</td>\n",
       "      <td>130.79</td>\n",
       "      <td>130.06</td>\n",
       "      <td>130.75</td>\n",
       "      <td>503732.63</td>\n",
       "    </tr>\n",
       "    <tr>\n",
       "      <th>2019-01-01 02:00:00</th>\n",
       "      <td>ETHUSD</td>\n",
       "      <td>130.79</td>\n",
       "      <td>130.88</td>\n",
       "      <td>129.55</td>\n",
       "      <td>130.06</td>\n",
       "      <td>838183.43</td>\n",
       "    </tr>\n",
       "    <tr>\n",
       "      <th>2019-01-01 01:00:00</th>\n",
       "      <td>ETHUSD</td>\n",
       "      <td>131.62</td>\n",
       "      <td>131.62</td>\n",
       "      <td>130.77</td>\n",
       "      <td>130.79</td>\n",
       "      <td>434917.99</td>\n",
       "    </tr>\n",
       "    <tr>\n",
       "      <th>2019-01-01 00:00:00</th>\n",
       "      <td>ETHUSD</td>\n",
       "      <td>130.53</td>\n",
       "      <td>131.91</td>\n",
       "      <td>130.48</td>\n",
       "      <td>131.62</td>\n",
       "      <td>1067136.21</td>\n",
       "    </tr>\n",
       "  </tbody>\n",
       "</table>\n",
       "<p>8760 rows × 6 columns</p>\n",
       "</div>"
      ],
      "text/plain": [
       "                     Symbol    Open    High     Low   Close      Volume\n",
       "Date                                                                   \n",
       "2019-12-31 23:00:00  ETHUSD  128.33  128.69  128.14  128.54   440678.91\n",
       "2019-12-31 22:00:00  ETHUSD  128.38  128.69  127.95  128.33   554646.02\n",
       "2019-12-31 21:00:00  ETHUSD  127.86  128.43  127.72  128.38   350155.69\n",
       "2019-12-31 20:00:00  ETHUSD  127.84  128.34  127.71  127.86   428183.38\n",
       "2019-12-31 19:00:00  ETHUSD  128.69  128.69  127.60  127.84  1169847.84\n",
       "...                     ...     ...     ...     ...     ...         ...\n",
       "2019-01-01 04:00:00  ETHUSD  130.75  133.96  130.74  131.96  2791135.37\n",
       "2019-01-01 03:00:00  ETHUSD  130.06  130.79  130.06  130.75   503732.63\n",
       "2019-01-01 02:00:00  ETHUSD  130.79  130.88  129.55  130.06   838183.43\n",
       "2019-01-01 01:00:00  ETHUSD  131.62  131.62  130.77  130.79   434917.99\n",
       "2019-01-01 00:00:00  ETHUSD  130.53  131.91  130.48  131.62  1067136.21\n",
       "\n",
       "[8760 rows x 6 columns]"
      ]
     },
     "execution_count": 9,
     "metadata": {},
     "output_type": "execute_result"
    }
   ],
   "source": [
    "# Melihat data pada tahun 2019\n",
    "\n",
    "df.loc['2019']"
   ]
  },
  {
   "cell_type": "code",
   "execution_count": 10,
   "metadata": {},
   "outputs": [
    {
     "data": {
      "text/html": [
       "<div>\n",
       "<style scoped>\n",
       "    .dataframe tbody tr th:only-of-type {\n",
       "        vertical-align: middle;\n",
       "    }\n",
       "\n",
       "    .dataframe tbody tr th {\n",
       "        vertical-align: top;\n",
       "    }\n",
       "\n",
       "    .dataframe thead th {\n",
       "        text-align: right;\n",
       "    }\n",
       "</style>\n",
       "<table border=\"1\" class=\"dataframe\">\n",
       "  <thead>\n",
       "    <tr style=\"text-align: right;\">\n",
       "      <th></th>\n",
       "      <th>Symbol</th>\n",
       "      <th>Open</th>\n",
       "      <th>High</th>\n",
       "      <th>Low</th>\n",
       "      <th>Close</th>\n",
       "      <th>Volume</th>\n",
       "    </tr>\n",
       "    <tr>\n",
       "      <th>Date</th>\n",
       "      <th></th>\n",
       "      <th></th>\n",
       "      <th></th>\n",
       "      <th></th>\n",
       "      <th></th>\n",
       "      <th></th>\n",
       "    </tr>\n",
       "  </thead>\n",
       "  <tbody>\n",
       "    <tr>\n",
       "      <th>2019-03-31 23:00:00</th>\n",
       "      <td>ETHUSD</td>\n",
       "      <td>141.17</td>\n",
       "      <td>141.55</td>\n",
       "      <td>141.10</td>\n",
       "      <td>141.20</td>\n",
       "      <td>322492.15</td>\n",
       "    </tr>\n",
       "    <tr>\n",
       "      <th>2019-03-31 22:00:00</th>\n",
       "      <td>ETHUSD</td>\n",
       "      <td>140.85</td>\n",
       "      <td>141.17</td>\n",
       "      <td>140.61</td>\n",
       "      <td>141.17</td>\n",
       "      <td>113863.94</td>\n",
       "    </tr>\n",
       "    <tr>\n",
       "      <th>2019-03-31 21:00:00</th>\n",
       "      <td>ETHUSD</td>\n",
       "      <td>141.04</td>\n",
       "      <td>141.17</td>\n",
       "      <td>140.67</td>\n",
       "      <td>140.85</td>\n",
       "      <td>281007.89</td>\n",
       "    </tr>\n",
       "    <tr>\n",
       "      <th>2019-03-31 20:00:00</th>\n",
       "      <td>ETHUSD</td>\n",
       "      <td>141.00</td>\n",
       "      <td>141.16</td>\n",
       "      <td>141.00</td>\n",
       "      <td>141.04</td>\n",
       "      <td>99771.75</td>\n",
       "    </tr>\n",
       "    <tr>\n",
       "      <th>2019-03-31 19:00:00</th>\n",
       "      <td>ETHUSD</td>\n",
       "      <td>140.56</td>\n",
       "      <td>141.13</td>\n",
       "      <td>140.52</td>\n",
       "      <td>141.00</td>\n",
       "      <td>191178.60</td>\n",
       "    </tr>\n",
       "    <tr>\n",
       "      <th>...</th>\n",
       "      <td>...</td>\n",
       "      <td>...</td>\n",
       "      <td>...</td>\n",
       "      <td>...</td>\n",
       "      <td>...</td>\n",
       "      <td>...</td>\n",
       "    </tr>\n",
       "    <tr>\n",
       "      <th>2019-01-01 04:00:00</th>\n",
       "      <td>ETHUSD</td>\n",
       "      <td>130.75</td>\n",
       "      <td>133.96</td>\n",
       "      <td>130.74</td>\n",
       "      <td>131.96</td>\n",
       "      <td>2791135.37</td>\n",
       "    </tr>\n",
       "    <tr>\n",
       "      <th>2019-01-01 03:00:00</th>\n",
       "      <td>ETHUSD</td>\n",
       "      <td>130.06</td>\n",
       "      <td>130.79</td>\n",
       "      <td>130.06</td>\n",
       "      <td>130.75</td>\n",
       "      <td>503732.63</td>\n",
       "    </tr>\n",
       "    <tr>\n",
       "      <th>2019-01-01 02:00:00</th>\n",
       "      <td>ETHUSD</td>\n",
       "      <td>130.79</td>\n",
       "      <td>130.88</td>\n",
       "      <td>129.55</td>\n",
       "      <td>130.06</td>\n",
       "      <td>838183.43</td>\n",
       "    </tr>\n",
       "    <tr>\n",
       "      <th>2019-01-01 01:00:00</th>\n",
       "      <td>ETHUSD</td>\n",
       "      <td>131.62</td>\n",
       "      <td>131.62</td>\n",
       "      <td>130.77</td>\n",
       "      <td>130.79</td>\n",
       "      <td>434917.99</td>\n",
       "    </tr>\n",
       "    <tr>\n",
       "      <th>2019-01-01 00:00:00</th>\n",
       "      <td>ETHUSD</td>\n",
       "      <td>130.53</td>\n",
       "      <td>131.91</td>\n",
       "      <td>130.48</td>\n",
       "      <td>131.62</td>\n",
       "      <td>1067136.21</td>\n",
       "    </tr>\n",
       "  </tbody>\n",
       "</table>\n",
       "<p>2160 rows × 6 columns</p>\n",
       "</div>"
      ],
      "text/plain": [
       "                     Symbol    Open    High     Low   Close      Volume\n",
       "Date                                                                   \n",
       "2019-03-31 23:00:00  ETHUSD  141.17  141.55  141.10  141.20   322492.15\n",
       "2019-03-31 22:00:00  ETHUSD  140.85  141.17  140.61  141.17   113863.94\n",
       "2019-03-31 21:00:00  ETHUSD  141.04  141.17  140.67  140.85   281007.89\n",
       "2019-03-31 20:00:00  ETHUSD  141.00  141.16  141.00  141.04    99771.75\n",
       "2019-03-31 19:00:00  ETHUSD  140.56  141.13  140.52  141.00   191178.60\n",
       "...                     ...     ...     ...     ...     ...         ...\n",
       "2019-01-01 04:00:00  ETHUSD  130.75  133.96  130.74  131.96  2791135.37\n",
       "2019-01-01 03:00:00  ETHUSD  130.06  130.79  130.06  130.75   503732.63\n",
       "2019-01-01 02:00:00  ETHUSD  130.79  130.88  129.55  130.06   838183.43\n",
       "2019-01-01 01:00:00  ETHUSD  131.62  131.62  130.77  130.79   434917.99\n",
       "2019-01-01 00:00:00  ETHUSD  130.53  131.91  130.48  131.62  1067136.21\n",
       "\n",
       "[2160 rows x 6 columns]"
      ]
     },
     "execution_count": 10,
     "metadata": {},
     "output_type": "execute_result"
    }
   ],
   "source": [
    "# Melihat data pada periode 2019-01 sampai 2019-03\n",
    "\n",
    "df.loc['2019-01': '2019-03']"
   ]
  },
  {
   "attachments": {},
   "cell_type": "markdown",
   "metadata": {},
   "source": [
    "Menerapkan fungsi agregat pada data datetime"
   ]
  },
  {
   "cell_type": "code",
   "execution_count": 11,
   "metadata": {},
   "outputs": [
    {
     "data": {
      "text/plain": [
       "132.68"
      ]
     },
     "execution_count": 11,
     "metadata": {},
     "output_type": "execute_result"
    }
   ],
   "source": [
    "df.loc['2020-01-01', 'High'].max()"
   ]
  },
  {
   "attachments": {},
   "cell_type": "markdown",
   "metadata": {},
   "source": [
    "Jika kita melakukan agregasi kita hanya mendapatkan 1 value, dengan resample kita dapat dengan mudah menampilkan agregasi dalam frekuensi tertentu"
   ]
  },
  {
   "attachments": {},
   "cell_type": "markdown",
   "metadata": {},
   "source": [
    "# Function Resample\n",
    "\n",
    "Ada 2 macam resample yaitu: \n",
    "- upsampling = mengubah frekuensi tinggi ke frekuensi yang lebih rendah, contoh : Yearly --> Monthly\n",
    "- downsampling = mengubah frekuensi rendah ke frekuensi yang lebih tinggi, contoh : Daily --? Monthly\n",
    "\n",
    "Syntax :\n",
    "\n",
    "**DataFrame**.resample(**Frekuensi**).**FungsiAgregat()**"
   ]
  },
  {
   "attachments": {},
   "cell_type": "markdown",
   "metadata": {},
   "source": [
    "## Downsampling\n",
    "\n",
    "Mengubah frekuensi hourly menjadi daily"
   ]
  },
  {
   "cell_type": "code",
   "execution_count": 12,
   "metadata": {},
   "outputs": [
    {
     "data": {
      "text/html": [
       "<div>\n",
       "<style scoped>\n",
       "    .dataframe tbody tr th:only-of-type {\n",
       "        vertical-align: middle;\n",
       "    }\n",
       "\n",
       "    .dataframe tbody tr th {\n",
       "        vertical-align: top;\n",
       "    }\n",
       "\n",
       "    .dataframe thead th {\n",
       "        text-align: right;\n",
       "    }\n",
       "</style>\n",
       "<table border=\"1\" class=\"dataframe\">\n",
       "  <thead>\n",
       "    <tr style=\"text-align: right;\">\n",
       "      <th></th>\n",
       "      <th>Symbol</th>\n",
       "      <th>Open</th>\n",
       "      <th>High</th>\n",
       "      <th>Low</th>\n",
       "      <th>Close</th>\n",
       "      <th>Volume</th>\n",
       "    </tr>\n",
       "    <tr>\n",
       "      <th>Date</th>\n",
       "      <th></th>\n",
       "      <th></th>\n",
       "      <th></th>\n",
       "      <th></th>\n",
       "      <th></th>\n",
       "      <th></th>\n",
       "    </tr>\n",
       "  </thead>\n",
       "  <tbody>\n",
       "    <tr>\n",
       "      <th>2020-03-13 20:00:00</th>\n",
       "      <td>ETHUSD</td>\n",
       "      <td>129.94</td>\n",
       "      <td>131.82</td>\n",
       "      <td>126.87</td>\n",
       "      <td>128.71</td>\n",
       "      <td>1940673.93</td>\n",
       "    </tr>\n",
       "    <tr>\n",
       "      <th>2020-03-13 19:00:00</th>\n",
       "      <td>ETHUSD</td>\n",
       "      <td>119.51</td>\n",
       "      <td>132.02</td>\n",
       "      <td>117.10</td>\n",
       "      <td>129.94</td>\n",
       "      <td>7579741.09</td>\n",
       "    </tr>\n",
       "    <tr>\n",
       "      <th>2020-03-13 18:00:00</th>\n",
       "      <td>ETHUSD</td>\n",
       "      <td>124.47</td>\n",
       "      <td>124.85</td>\n",
       "      <td>115.50</td>\n",
       "      <td>119.51</td>\n",
       "      <td>4898735.81</td>\n",
       "    </tr>\n",
       "    <tr>\n",
       "      <th>2020-03-13 17:00:00</th>\n",
       "      <td>ETHUSD</td>\n",
       "      <td>124.08</td>\n",
       "      <td>127.42</td>\n",
       "      <td>121.63</td>\n",
       "      <td>124.47</td>\n",
       "      <td>2753450.92</td>\n",
       "    </tr>\n",
       "    <tr>\n",
       "      <th>2020-03-13 16:00:00</th>\n",
       "      <td>ETHUSD</td>\n",
       "      <td>124.85</td>\n",
       "      <td>129.51</td>\n",
       "      <td>120.17</td>\n",
       "      <td>124.08</td>\n",
       "      <td>4461424.71</td>\n",
       "    </tr>\n",
       "  </tbody>\n",
       "</table>\n",
       "</div>"
      ],
      "text/plain": [
       "                     Symbol    Open    High     Low   Close      Volume\n",
       "Date                                                                   \n",
       "2020-03-13 20:00:00  ETHUSD  129.94  131.82  126.87  128.71  1940673.93\n",
       "2020-03-13 19:00:00  ETHUSD  119.51  132.02  117.10  129.94  7579741.09\n",
       "2020-03-13 18:00:00  ETHUSD  124.47  124.85  115.50  119.51  4898735.81\n",
       "2020-03-13 17:00:00  ETHUSD  124.08  127.42  121.63  124.47  2753450.92\n",
       "2020-03-13 16:00:00  ETHUSD  124.85  129.51  120.17  124.08  4461424.71"
      ]
     },
     "execution_count": 12,
     "metadata": {},
     "output_type": "execute_result"
    }
   ],
   "source": [
    "df.head()"
   ]
  },
  {
   "cell_type": "code",
   "execution_count": 13,
   "metadata": {},
   "outputs": [
    {
     "data": {
      "text/plain": [
       "Date\n",
       "2017-07-01    279.99\n",
       "2017-07-02    293.73\n",
       "2017-07-03    285.00\n",
       "2017-07-04    282.83\n",
       "2017-07-05    274.97\n",
       "Freq: D, Name: High, dtype: float64"
      ]
     },
     "execution_count": 13,
     "metadata": {},
     "output_type": "execute_result"
    }
   ],
   "source": [
    "daily_high = df['High'].resample('D').max()\n",
    "daily_high.head()"
   ]
  },
  {
   "attachments": {},
   "cell_type": "markdown",
   "metadata": {},
   "source": [
    "## Upsampling\n",
    "\n",
    "Mengubah frekuensi hourly menjadi 15 minutes"
   ]
  },
  {
   "cell_type": "code",
   "execution_count": 14,
   "metadata": {},
   "outputs": [
    {
     "data": {
      "text/plain": [
       "Date\n",
       "2020-03-13 16:00:00    129.51\n",
       "2020-03-13 16:15:00       NaN\n",
       "2020-03-13 16:30:00       NaN\n",
       "2020-03-13 16:45:00       NaN\n",
       "2020-03-13 17:00:00    127.42\n",
       "2020-03-13 17:15:00       NaN\n",
       "2020-03-13 17:30:00       NaN\n",
       "2020-03-13 17:45:00       NaN\n",
       "2020-03-13 18:00:00    124.85\n",
       "2020-03-13 18:15:00       NaN\n",
       "2020-03-13 18:30:00       NaN\n",
       "2020-03-13 18:45:00       NaN\n",
       "2020-03-13 19:00:00    132.02\n",
       "2020-03-13 19:15:00       NaN\n",
       "2020-03-13 19:30:00       NaN\n",
       "2020-03-13 19:45:00       NaN\n",
       "2020-03-13 20:00:00    131.82\n",
       "Freq: 15T, Name: High, dtype: float64"
      ]
     },
     "execution_count": 14,
     "metadata": {},
     "output_type": "execute_result"
    }
   ],
   "source": [
    "df['High'].head(5).resample('15T').max()"
   ]
  },
  {
   "attachments": {},
   "cell_type": "markdown",
   "metadata": {},
   "source": [
    "Saat kita melakukan upsampling biasanya kita akan mendapatkan data yang memiliki value NaN, karena pada dasarnya dataset kita tidak memiliki value untuk frekuensi tersebt. Jika kita memang harus menghandle missing value tersebut kita bisa menggunakan beberapa metode, yaitu:\n",
    "- .ffil()\n",
    "    * Mengisi missing value dengan nilai terakhir yang diketahui\n",
    "- .bfill()\n",
    "    * Mengisi missing value dengan nilai berikutnya\n",
    "- .interpolate()\n",
    "    * Mengisi missing value dengan dengan melakukan interpolasi pada data di sekitarnya, ada beberapa metode interpolasi :\n",
    "        - 'linear'\n",
    "        - 'polynomial'\n",
    "        - 'spline\n",
    "        \n",
    "Penentuan harus menggunakan metode apa untuk mengisi missing value tergantung dari dataset dan tujuan dari analisa yang kita lakukan."
   ]
  },
  {
   "attachments": {},
   "cell_type": "markdown",
   "metadata": {},
   "source": [
    "### - .ffill"
   ]
  },
  {
   "cell_type": "code",
   "execution_count": 15,
   "metadata": {},
   "outputs": [
    {
     "data": {
      "text/plain": [
       "Date\n",
       "2020-03-13 16:00:00    129.51\n",
       "2020-03-13 16:15:00    129.51\n",
       "2020-03-13 16:30:00    129.51\n",
       "2020-03-13 16:45:00    129.51\n",
       "2020-03-13 17:00:00    127.42\n",
       "2020-03-13 17:15:00    127.42\n",
       "2020-03-13 17:30:00    127.42\n",
       "2020-03-13 17:45:00    127.42\n",
       "2020-03-13 18:00:00    124.85\n",
       "2020-03-13 18:15:00    124.85\n",
       "2020-03-13 18:30:00    124.85\n",
       "2020-03-13 18:45:00    124.85\n",
       "2020-03-13 19:00:00    132.02\n",
       "2020-03-13 19:15:00    132.02\n",
       "2020-03-13 19:30:00    132.02\n",
       "2020-03-13 19:45:00    132.02\n",
       "2020-03-13 20:00:00    131.82\n",
       "Freq: 15T, Name: High, dtype: float64"
      ]
     },
     "execution_count": 15,
     "metadata": {},
     "output_type": "execute_result"
    }
   ],
   "source": [
    "df['High'].head(5).resample('15T').max().ffill()"
   ]
  },
  {
   "attachments": {},
   "cell_type": "markdown",
   "metadata": {},
   "source": [
    "### - .bfill"
   ]
  },
  {
   "cell_type": "code",
   "execution_count": 16,
   "metadata": {},
   "outputs": [
    {
     "data": {
      "text/plain": [
       "Date\n",
       "2020-03-13 16:00:00    129.51\n",
       "2020-03-13 16:15:00    127.42\n",
       "2020-03-13 16:30:00    127.42\n",
       "2020-03-13 16:45:00    127.42\n",
       "2020-03-13 17:00:00    127.42\n",
       "2020-03-13 17:15:00    124.85\n",
       "2020-03-13 17:30:00    124.85\n",
       "2020-03-13 17:45:00    124.85\n",
       "2020-03-13 18:00:00    124.85\n",
       "2020-03-13 18:15:00    132.02\n",
       "2020-03-13 18:30:00    132.02\n",
       "2020-03-13 18:45:00    132.02\n",
       "2020-03-13 19:00:00    132.02\n",
       "2020-03-13 19:15:00    131.82\n",
       "2020-03-13 19:30:00    131.82\n",
       "2020-03-13 19:45:00    131.82\n",
       "2020-03-13 20:00:00    131.82\n",
       "Freq: 15T, Name: High, dtype: float64"
      ]
     },
     "execution_count": 16,
     "metadata": {},
     "output_type": "execute_result"
    }
   ],
   "source": [
    "df['High'].head(5).resample('15T').max().bfill()"
   ]
  },
  {
   "attachments": {},
   "cell_type": "markdown",
   "metadata": {},
   "source": [
    "### - .interpolate()"
   ]
  },
  {
   "attachments": {},
   "cell_type": "markdown",
   "metadata": {},
   "source": [
    "method = 'linear'"
   ]
  },
  {
   "cell_type": "code",
   "execution_count": 17,
   "metadata": {},
   "outputs": [
    {
     "data": {
      "text/plain": [
       "Date\n",
       "2020-03-13 16:00:00    129.5100\n",
       "2020-03-13 16:15:00    128.9875\n",
       "2020-03-13 16:30:00    128.4650\n",
       "2020-03-13 16:45:00    127.9425\n",
       "2020-03-13 17:00:00    127.4200\n",
       "2020-03-13 17:15:00    126.7775\n",
       "2020-03-13 17:30:00    126.1350\n",
       "2020-03-13 17:45:00    125.4925\n",
       "2020-03-13 18:00:00    124.8500\n",
       "2020-03-13 18:15:00    126.6425\n",
       "2020-03-13 18:30:00    128.4350\n",
       "2020-03-13 18:45:00    130.2275\n",
       "2020-03-13 19:00:00    132.0200\n",
       "2020-03-13 19:15:00    131.9700\n",
       "2020-03-13 19:30:00    131.9200\n",
       "2020-03-13 19:45:00    131.8700\n",
       "2020-03-13 20:00:00    131.8200\n",
       "Freq: 15T, Name: High, dtype: float64"
      ]
     },
     "execution_count": 17,
     "metadata": {},
     "output_type": "execute_result"
    }
   ],
   "source": [
    "df['High'].head(5).resample('15T').max().interpolate(method= 'linear')"
   ]
  },
  {
   "attachments": {},
   "cell_type": "markdown",
   "metadata": {},
   "source": [
    "#### method= 'polynomial'"
   ]
  },
  {
   "cell_type": "code",
   "execution_count": 18,
   "metadata": {},
   "outputs": [
    {
     "data": {
      "text/plain": [
       "Date\n",
       "2020-03-13 16:00:00    129.510000\n",
       "2020-03-13 16:15:00    129.242580\n",
       "2020-03-13 16:30:00    128.805107\n",
       "2020-03-13 16:45:00    128.197580\n",
       "2020-03-13 17:00:00    127.420000\n",
       "2020-03-13 17:15:00    126.472366\n",
       "2020-03-13 17:30:00    125.354679\n",
       "2020-03-13 17:45:00    124.627152\n",
       "2020-03-13 18:00:00    124.850000\n",
       "2020-03-13 18:15:00    126.023223\n",
       "2020-03-13 18:30:00    128.146821\n",
       "2020-03-13 18:45:00    130.414509\n",
       "2020-03-13 19:00:00    132.020000\n",
       "2020-03-13 19:15:00    132.963295\n",
       "2020-03-13 19:30:00    133.244393\n",
       "2020-03-13 19:45:00    132.863295\n",
       "2020-03-13 20:00:00    131.820000\n",
       "Freq: 15T, Name: High, dtype: float64"
      ]
     },
     "execution_count": 18,
     "metadata": {},
     "output_type": "execute_result"
    }
   ],
   "source": [
    "df['High'].head(5).resample('15T').max().interpolate(method= 'polynomial', order= 2)"
   ]
  },
  {
   "attachments": {},
   "cell_type": "markdown",
   "metadata": {},
   "source": [
    "method= 'spline'"
   ]
  },
  {
   "cell_type": "code",
   "execution_count": 19,
   "metadata": {},
   "outputs": [
    {
     "data": {
      "text/plain": [
       "Date\n",
       "2020-03-13 16:00:00    129.510000\n",
       "2020-03-13 16:15:00    128.656077\n",
       "2020-03-13 16:30:00    127.790562\n",
       "2020-03-13 16:45:00    127.086511\n",
       "2020-03-13 17:00:00    127.420000\n",
       "2020-03-13 17:15:00    126.162804\n",
       "2020-03-13 17:30:00    125.943147\n",
       "2020-03-13 17:45:00    125.997869\n",
       "2020-03-13 18:00:00    124.850000\n",
       "2020-03-13 18:15:00    127.269187\n",
       "2020-03-13 18:30:00    128.485784\n",
       "2020-03-13 18:45:00    129.763517\n",
       "2020-03-13 19:00:00    132.020000\n",
       "2020-03-13 19:15:00    131.523928\n",
       "2020-03-13 19:30:00    132.006605\n",
       "2020-03-13 19:45:00    132.224264\n",
       "2020-03-13 20:00:00    131.820000\n",
       "Freq: 15T, Name: High, dtype: float64"
      ]
     },
     "execution_count": 19,
     "metadata": {},
     "output_type": "execute_result"
    }
   ],
   "source": [
    "df['High'].head(5).resample('15T').max().interpolate(method= 'spline', order= 2)"
   ]
  },
  {
   "attachments": {},
   "cell_type": "markdown",
   "metadata": {},
   "source": [
    "## Menggunakan resample() untuk banyak kolom\n",
    "\n",
    "Kita juga bisa menerapkan function resample ke banyak kolom dengan aggregate yang berbeda untuk tiap kolomnya dengan menggunakan function **.agg()**\n",
    "\n",
    "Syntax:\n",
    "\n",
    "**DataFrame**.resample(**'Frekuensi'**).agg({**'NamaKolom': 'Agregat'**})"
   ]
  },
  {
   "cell_type": "code",
   "execution_count": 20,
   "metadata": {},
   "outputs": [
    {
     "data": {
      "text/html": [
       "<div>\n",
       "<style scoped>\n",
       "    .dataframe tbody tr th:only-of-type {\n",
       "        vertical-align: middle;\n",
       "    }\n",
       "\n",
       "    .dataframe tbody tr th {\n",
       "        vertical-align: top;\n",
       "    }\n",
       "\n",
       "    .dataframe thead th {\n",
       "        text-align: right;\n",
       "    }\n",
       "</style>\n",
       "<table border=\"1\" class=\"dataframe\">\n",
       "  <thead>\n",
       "    <tr style=\"text-align: right;\">\n",
       "      <th></th>\n",
       "      <th>Open</th>\n",
       "      <th>High</th>\n",
       "      <th>Low</th>\n",
       "      <th>Close</th>\n",
       "      <th>Volume</th>\n",
       "    </tr>\n",
       "    <tr>\n",
       "      <th>Date</th>\n",
       "      <th></th>\n",
       "      <th></th>\n",
       "      <th></th>\n",
       "      <th></th>\n",
       "      <th></th>\n",
       "    </tr>\n",
       "  </thead>\n",
       "  <tbody>\n",
       "    <tr>\n",
       "      <th>2017-07-01</th>\n",
       "      <td>266.581538</td>\n",
       "      <td>268.698462</td>\n",
       "      <td>261.861538</td>\n",
       "      <td>265.284615</td>\n",
       "      <td>2.198771e+06</td>\n",
       "    </tr>\n",
       "    <tr>\n",
       "      <th>2017-07-02</th>\n",
       "      <td>268.870833</td>\n",
       "      <td>272.438750</td>\n",
       "      <td>266.422083</td>\n",
       "      <td>269.782500</td>\n",
       "      <td>2.177595e+06</td>\n",
       "    </tr>\n",
       "    <tr>\n",
       "      <th>2017-07-03</th>\n",
       "      <td>279.241667</td>\n",
       "      <td>280.774167</td>\n",
       "      <td>276.599583</td>\n",
       "      <td>278.882083</td>\n",
       "      <td>1.459015e+06</td>\n",
       "    </tr>\n",
       "    <tr>\n",
       "      <th>2017-07-04</th>\n",
       "      <td>277.042083</td>\n",
       "      <td>278.034167</td>\n",
       "      <td>275.117500</td>\n",
       "      <td>276.743333</td>\n",
       "      <td>1.254579e+06</td>\n",
       "    </tr>\n",
       "    <tr>\n",
       "      <th>2017-07-05</th>\n",
       "      <td>265.147917</td>\n",
       "      <td>267.120000</td>\n",
       "      <td>262.834583</td>\n",
       "      <td>265.025833</td>\n",
       "      <td>1.797923e+06</td>\n",
       "    </tr>\n",
       "    <tr>\n",
       "      <th>...</th>\n",
       "      <td>...</td>\n",
       "      <td>...</td>\n",
       "      <td>...</td>\n",
       "      <td>...</td>\n",
       "      <td>...</td>\n",
       "    </tr>\n",
       "    <tr>\n",
       "      <th>2020-03-09</th>\n",
       "      <td>200.680417</td>\n",
       "      <td>203.311667</td>\n",
       "      <td>197.860000</td>\n",
       "      <td>200.818333</td>\n",
       "      <td>3.804752e+06</td>\n",
       "    </tr>\n",
       "    <tr>\n",
       "      <th>2020-03-10</th>\n",
       "      <td>201.672083</td>\n",
       "      <td>203.155000</td>\n",
       "      <td>199.912500</td>\n",
       "      <td>201.577500</td>\n",
       "      <td>1.553063e+06</td>\n",
       "    </tr>\n",
       "    <tr>\n",
       "      <th>2020-03-11</th>\n",
       "      <td>196.155833</td>\n",
       "      <td>197.684167</td>\n",
       "      <td>194.100833</td>\n",
       "      <td>195.910417</td>\n",
       "      <td>1.894868e+06</td>\n",
       "    </tr>\n",
       "    <tr>\n",
       "      <th>2020-03-12</th>\n",
       "      <td>156.276250</td>\n",
       "      <td>159.006250</td>\n",
       "      <td>148.700417</td>\n",
       "      <td>152.763333</td>\n",
       "      <td>7.503069e+06</td>\n",
       "    </tr>\n",
       "    <tr>\n",
       "      <th>2020-03-13</th>\n",
       "      <td>123.183810</td>\n",
       "      <td>130.563333</td>\n",
       "      <td>117.131905</td>\n",
       "      <td>124.060476</td>\n",
       "      <td>6.869609e+06</td>\n",
       "    </tr>\n",
       "  </tbody>\n",
       "</table>\n",
       "<p>987 rows × 5 columns</p>\n",
       "</div>"
      ],
      "text/plain": [
       "                  Open        High         Low       Close        Volume\n",
       "Date                                                                    \n",
       "2017-07-01  266.581538  268.698462  261.861538  265.284615  2.198771e+06\n",
       "2017-07-02  268.870833  272.438750  266.422083  269.782500  2.177595e+06\n",
       "2017-07-03  279.241667  280.774167  276.599583  278.882083  1.459015e+06\n",
       "2017-07-04  277.042083  278.034167  275.117500  276.743333  1.254579e+06\n",
       "2017-07-05  265.147917  267.120000  262.834583  265.025833  1.797923e+06\n",
       "...                ...         ...         ...         ...           ...\n",
       "2020-03-09  200.680417  203.311667  197.860000  200.818333  3.804752e+06\n",
       "2020-03-10  201.672083  203.155000  199.912500  201.577500  1.553063e+06\n",
       "2020-03-11  196.155833  197.684167  194.100833  195.910417  1.894868e+06\n",
       "2020-03-12  156.276250  159.006250  148.700417  152.763333  7.503069e+06\n",
       "2020-03-13  123.183810  130.563333  117.131905  124.060476  6.869609e+06\n",
       "\n",
       "[987 rows x 5 columns]"
      ]
     },
     "execution_count": 20,
     "metadata": {},
     "output_type": "execute_result"
    }
   ],
   "source": [
    "df.resample('D').mean()"
   ]
  },
  {
   "attachments": {},
   "cell_type": "markdown",
   "metadata": {},
   "source": [
    "Kita bisa menggunakan 1 aggregate untuk semua function, namun untuk dataset ini kurang tepat untuk menggunakan rata-rata untuk setiap kolom. Kita akan coba melakukan agregasi dengan metode berikut:\n",
    "- High : max\n",
    "    * kita ingin mengetahui harga tertinggi per hari\n",
    "- Low : min\n",
    "    * kita ingin mengetahui harga terendah per hari\n",
    "- volume : sum\n",
    "    * kita ingin mengetahui total volume per hari"
   ]
  },
  {
   "cell_type": "code",
   "execution_count": 21,
   "metadata": {},
   "outputs": [],
   "source": [
    "agg_func = {'High': 'max', 'Low': 'min', 'Volume': 'sum'}"
   ]
  },
  {
   "cell_type": "code",
   "execution_count": 28,
   "metadata": {},
   "outputs": [
    {
     "data": {
      "text/html": [
       "<div>\n",
       "<style scoped>\n",
       "    .dataframe tbody tr th:only-of-type {\n",
       "        vertical-align: middle;\n",
       "    }\n",
       "\n",
       "    .dataframe tbody tr th {\n",
       "        vertical-align: top;\n",
       "    }\n",
       "\n",
       "    .dataframe thead th {\n",
       "        text-align: right;\n",
       "    }\n",
       "</style>\n",
       "<table border=\"1\" class=\"dataframe\">\n",
       "  <thead>\n",
       "    <tr style=\"text-align: right;\">\n",
       "      <th></th>\n",
       "      <th>High</th>\n",
       "      <th>Low</th>\n",
       "      <th>Volume</th>\n",
       "    </tr>\n",
       "    <tr>\n",
       "      <th>Date</th>\n",
       "      <th></th>\n",
       "      <th></th>\n",
       "      <th></th>\n",
       "    </tr>\n",
       "  </thead>\n",
       "  <tbody>\n",
       "    <tr>\n",
       "      <th>2017-07-01</th>\n",
       "      <td>279.99</td>\n",
       "      <td>253.23</td>\n",
       "      <td>2.858402e+07</td>\n",
       "    </tr>\n",
       "    <tr>\n",
       "      <th>2017-07-02</th>\n",
       "      <td>293.73</td>\n",
       "      <td>255.70</td>\n",
       "      <td>5.226229e+07</td>\n",
       "    </tr>\n",
       "    <tr>\n",
       "      <th>2017-07-03</th>\n",
       "      <td>285.00</td>\n",
       "      <td>273.07</td>\n",
       "      <td>3.501635e+07</td>\n",
       "    </tr>\n",
       "    <tr>\n",
       "      <th>2017-07-04</th>\n",
       "      <td>282.83</td>\n",
       "      <td>265.00</td>\n",
       "      <td>3.010991e+07</td>\n",
       "    </tr>\n",
       "    <tr>\n",
       "      <th>2017-07-05</th>\n",
       "      <td>274.97</td>\n",
       "      <td>252.67</td>\n",
       "      <td>4.315016e+07</td>\n",
       "    </tr>\n",
       "    <tr>\n",
       "      <th>...</th>\n",
       "      <td>...</td>\n",
       "      <td>...</td>\n",
       "      <td>...</td>\n",
       "    </tr>\n",
       "    <tr>\n",
       "      <th>2020-03-09</th>\n",
       "      <td>208.65</td>\n",
       "      <td>189.85</td>\n",
       "      <td>9.131404e+07</td>\n",
       "    </tr>\n",
       "    <tr>\n",
       "      <th>2020-03-10</th>\n",
       "      <td>206.28</td>\n",
       "      <td>195.17</td>\n",
       "      <td>3.727352e+07</td>\n",
       "    </tr>\n",
       "    <tr>\n",
       "      <th>2020-03-11</th>\n",
       "      <td>202.98</td>\n",
       "      <td>181.00</td>\n",
       "      <td>4.547683e+07</td>\n",
       "    </tr>\n",
       "    <tr>\n",
       "      <th>2020-03-12</th>\n",
       "      <td>195.64</td>\n",
       "      <td>101.22</td>\n",
       "      <td>1.800737e+08</td>\n",
       "    </tr>\n",
       "    <tr>\n",
       "      <th>2020-03-13</th>\n",
       "      <td>148.00</td>\n",
       "      <td>90.00</td>\n",
       "      <td>1.442618e+08</td>\n",
       "    </tr>\n",
       "  </tbody>\n",
       "</table>\n",
       "<p>987 rows × 3 columns</p>\n",
       "</div>"
      ],
      "text/plain": [
       "              High     Low        Volume\n",
       "Date                                    \n",
       "2017-07-01  279.99  253.23  2.858402e+07\n",
       "2017-07-02  293.73  255.70  5.226229e+07\n",
       "2017-07-03  285.00  273.07  3.501635e+07\n",
       "2017-07-04  282.83  265.00  3.010991e+07\n",
       "2017-07-05  274.97  252.67  4.315016e+07\n",
       "...            ...     ...           ...\n",
       "2020-03-09  208.65  189.85  9.131404e+07\n",
       "2020-03-10  206.28  195.17  3.727352e+07\n",
       "2020-03-11  202.98  181.00  4.547683e+07\n",
       "2020-03-12  195.64  101.22  1.800737e+08\n",
       "2020-03-13  148.00   90.00  1.442618e+08\n",
       "\n",
       "[987 rows x 3 columns]"
      ]
     },
     "execution_count": 28,
     "metadata": {},
     "output_type": "execute_result"
    }
   ],
   "source": [
    "df_agg = df.resample('D').agg(agg_func)\n",
    "df_agg"
   ]
  },
  {
   "attachments": {},
   "cell_type": "markdown",
   "metadata": {},
   "source": [
    "# Menggunakan function resample() untuk visualisasi\n",
    "\n",
    "Kita bisa dengan mudah menampilkan visualisasi dengan frekuensi yang berbeda-beda dengan function resample()"
   ]
  },
  {
   "cell_type": "code",
   "execution_count": null,
   "metadata": {},
   "outputs": [],
   "source": [
    "agg_func = {'High': 'max', 'Low': 'min', 'Volume': 'sum'}"
   ]
  },
  {
   "cell_type": "code",
   "execution_count": 23,
   "metadata": {},
   "outputs": [
    {
     "data": {
      "text/html": [
       "<div>\n",
       "<style scoped>\n",
       "    .dataframe tbody tr th:only-of-type {\n",
       "        vertical-align: middle;\n",
       "    }\n",
       "\n",
       "    .dataframe tbody tr th {\n",
       "        vertical-align: top;\n",
       "    }\n",
       "\n",
       "    .dataframe thead th {\n",
       "        text-align: right;\n",
       "    }\n",
       "</style>\n",
       "<table border=\"1\" class=\"dataframe\">\n",
       "  <thead>\n",
       "    <tr style=\"text-align: right;\">\n",
       "      <th></th>\n",
       "      <th>High</th>\n",
       "      <th>Low</th>\n",
       "      <th>Volume</th>\n",
       "    </tr>\n",
       "    <tr>\n",
       "      <th>Date</th>\n",
       "      <th></th>\n",
       "      <th></th>\n",
       "      <th></th>\n",
       "    </tr>\n",
       "  </thead>\n",
       "  <tbody>\n",
       "    <tr>\n",
       "      <th>2019-01-01</th>\n",
       "      <td>140.90</td>\n",
       "      <td>129.55</td>\n",
       "      <td>20946906.90</td>\n",
       "    </tr>\n",
       "    <tr>\n",
       "      <th>2019-01-02</th>\n",
       "      <td>156.69</td>\n",
       "      <td>138.75</td>\n",
       "      <td>34569353.18</td>\n",
       "    </tr>\n",
       "    <tr>\n",
       "      <th>2019-01-03</th>\n",
       "      <td>154.44</td>\n",
       "      <td>144.49</td>\n",
       "      <td>28670970.39</td>\n",
       "    </tr>\n",
       "    <tr>\n",
       "      <th>2019-01-04</th>\n",
       "      <td>155.51</td>\n",
       "      <td>145.14</td>\n",
       "      <td>32602336.50</td>\n",
       "    </tr>\n",
       "    <tr>\n",
       "      <th>2019-01-05</th>\n",
       "      <td>160.61</td>\n",
       "      <td>152.92</td>\n",
       "      <td>31938001.20</td>\n",
       "    </tr>\n",
       "  </tbody>\n",
       "</table>\n",
       "</div>"
      ],
      "text/plain": [
       "              High     Low       Volume\n",
       "Date                                   \n",
       "2019-01-01  140.90  129.55  20946906.90\n",
       "2019-01-02  156.69  138.75  34569353.18\n",
       "2019-01-03  154.44  144.49  28670970.39\n",
       "2019-01-04  155.51  145.14  32602336.50\n",
       "2019-01-05  160.61  152.92  31938001.20"
      ]
     },
     "execution_count": 23,
     "metadata": {},
     "output_type": "execute_result"
    }
   ],
   "source": [
    "df_agg_daily = df.loc['2019':'2020'].resample('D').agg(agg_func)\n",
    "df_agg_daily.head()"
   ]
  },
  {
   "cell_type": "code",
   "execution_count": 24,
   "metadata": {},
   "outputs": [
    {
     "data": {
      "text/html": [
       "<div>\n",
       "<style scoped>\n",
       "    .dataframe tbody tr th:only-of-type {\n",
       "        vertical-align: middle;\n",
       "    }\n",
       "\n",
       "    .dataframe tbody tr th {\n",
       "        vertical-align: top;\n",
       "    }\n",
       "\n",
       "    .dataframe thead th {\n",
       "        text-align: right;\n",
       "    }\n",
       "</style>\n",
       "<table border=\"1\" class=\"dataframe\">\n",
       "  <thead>\n",
       "    <tr style=\"text-align: right;\">\n",
       "      <th></th>\n",
       "      <th>High</th>\n",
       "      <th>Low</th>\n",
       "      <th>Volume</th>\n",
       "    </tr>\n",
       "    <tr>\n",
       "      <th>Date</th>\n",
       "      <th></th>\n",
       "      <th></th>\n",
       "      <th></th>\n",
       "    </tr>\n",
       "  </thead>\n",
       "  <tbody>\n",
       "    <tr>\n",
       "      <th>2019-01-06</th>\n",
       "      <td>160.61</td>\n",
       "      <td>129.55</td>\n",
       "      <td>1.743920e+08</td>\n",
       "    </tr>\n",
       "    <tr>\n",
       "      <th>2019-01-13</th>\n",
       "      <td>157.15</td>\n",
       "      <td>113.50</td>\n",
       "      <td>1.404471e+08</td>\n",
       "    </tr>\n",
       "    <tr>\n",
       "      <th>2019-01-20</th>\n",
       "      <td>131.70</td>\n",
       "      <td>115.34</td>\n",
       "      <td>1.078701e+08</td>\n",
       "    </tr>\n",
       "    <tr>\n",
       "      <th>2019-01-27</th>\n",
       "      <td>119.41</td>\n",
       "      <td>110.30</td>\n",
       "      <td>5.668892e+07</td>\n",
       "    </tr>\n",
       "    <tr>\n",
       "      <th>2019-02-03</th>\n",
       "      <td>112.10</td>\n",
       "      <td>100.90</td>\n",
       "      <td>6.719136e+07</td>\n",
       "    </tr>\n",
       "  </tbody>\n",
       "</table>\n",
       "</div>"
      ],
      "text/plain": [
       "              High     Low        Volume\n",
       "Date                                    \n",
       "2019-01-06  160.61  129.55  1.743920e+08\n",
       "2019-01-13  157.15  113.50  1.404471e+08\n",
       "2019-01-20  131.70  115.34  1.078701e+08\n",
       "2019-01-27  119.41  110.30  5.668892e+07\n",
       "2019-02-03  112.10  100.90  6.719136e+07"
      ]
     },
     "execution_count": 24,
     "metadata": {},
     "output_type": "execute_result"
    }
   ],
   "source": [
    "df_agg_weekly = df.loc['2019':'2020'].resample('W').agg(agg_func)\n",
    "df_agg_weekly.head()"
   ]
  },
  {
   "cell_type": "code",
   "execution_count": 25,
   "metadata": {},
   "outputs": [
    {
     "data": {
      "text/html": [
       "<div>\n",
       "<style scoped>\n",
       "    .dataframe tbody tr th:only-of-type {\n",
       "        vertical-align: middle;\n",
       "    }\n",
       "\n",
       "    .dataframe tbody tr th {\n",
       "        vertical-align: top;\n",
       "    }\n",
       "\n",
       "    .dataframe thead th {\n",
       "        text-align: right;\n",
       "    }\n",
       "</style>\n",
       "<table border=\"1\" class=\"dataframe\">\n",
       "  <thead>\n",
       "    <tr style=\"text-align: right;\">\n",
       "      <th></th>\n",
       "      <th>High</th>\n",
       "      <th>Low</th>\n",
       "      <th>Volume</th>\n",
       "    </tr>\n",
       "    <tr>\n",
       "      <th>Date</th>\n",
       "      <th></th>\n",
       "      <th></th>\n",
       "      <th></th>\n",
       "    </tr>\n",
       "  </thead>\n",
       "  <tbody>\n",
       "    <tr>\n",
       "      <th>2019-01-31</th>\n",
       "      <td>160.61</td>\n",
       "      <td>100.90</td>\n",
       "      <td>5.248200e+08</td>\n",
       "    </tr>\n",
       "    <tr>\n",
       "      <th>2019-02-28</th>\n",
       "      <td>165.62</td>\n",
       "      <td>100.15</td>\n",
       "      <td>4.142434e+08</td>\n",
       "    </tr>\n",
       "    <tr>\n",
       "      <th>2019-03-31</th>\n",
       "      <td>147.00</td>\n",
       "      <td>122.75</td>\n",
       "      <td>2.903483e+08</td>\n",
       "    </tr>\n",
       "    <tr>\n",
       "      <th>2019-04-30</th>\n",
       "      <td>187.62</td>\n",
       "      <td>138.81</td>\n",
       "      <td>6.483574e+08</td>\n",
       "    </tr>\n",
       "    <tr>\n",
       "      <th>2019-05-31</th>\n",
       "      <td>288.77</td>\n",
       "      <td>155.91</td>\n",
       "      <td>1.688800e+09</td>\n",
       "    </tr>\n",
       "  </tbody>\n",
       "</table>\n",
       "</div>"
      ],
      "text/plain": [
       "              High     Low        Volume\n",
       "Date                                    \n",
       "2019-01-31  160.61  100.90  5.248200e+08\n",
       "2019-02-28  165.62  100.15  4.142434e+08\n",
       "2019-03-31  147.00  122.75  2.903483e+08\n",
       "2019-04-30  187.62  138.81  6.483574e+08\n",
       "2019-05-31  288.77  155.91  1.688800e+09"
      ]
     },
     "execution_count": 25,
     "metadata": {},
     "output_type": "execute_result"
    }
   ],
   "source": [
    "df_agg_monthly = df.loc['2019':'2020'].resample('M').agg(agg_func)\n",
    "df_agg_monthly.head()"
   ]
  },
  {
   "cell_type": "code",
   "execution_count": 26,
   "metadata": {},
   "outputs": [
    {
     "data": {
      "image/png": "[encoded data removed]",
      "text/plain": [
       "<Figure size 2000x800 with 1 Axes>"
      ]
     },
     "metadata": {},
     "output_type": "display_data"
    }
   ],
   "source": [
    "plt.figure(figsize= (20, 8))\n",
    "\n",
    "plt.title('Multiple Timeframe Prices of ETH (2019 - 2020)')\n",
    "\n",
    "sns.lineplot(data= df_agg_daily['High'], label= 'Daily')\n",
    "sns.lineplot(data= df_agg_weekly['High'], label= 'Weekly')\n",
    "sns.lineplot(data= df_agg_monthly['High'], label= 'Monthly')\n",
    "\n",
    "plt.legend()\n",
    "plt.show()"
   ]
  },
  {
   "attachments": {},
   "cell_type": "markdown",
   "metadata": {},
   "source": [
    "# Kesimpulan\n",
    "\n",
    "Dari artikel ini, kita sudah mengenal konsep dan penggunaan fungsi resample pada Python. Fungsi resample sangat berguna untuk mengubah frekuensi data time series, baik untuk downsampling (mengurangi frekuensi) maupun upsampling (meningkatkan frekuensi).\n",
    "\n",
    "Dalam proses resampling, kita dapat menggunakan argumen seperti frequency alias, seperti 'D' untuk harian, 'W' untuk mingguan, 'M' untuk bulanan, dan sebagainya. Kita juga dapat menentukan interval waktu yang diinginkan, misalnya '30T' untuk setiap 30 menit.\n",
    "\n",
    "Selain itu, dalam artikel ini kita juga mempelajari cara menangani missing value saat melakukan upsampling. Beberapa pendekatan yang umum digunakan adalah menggunakan forward fill (mengisi dengan nilai terakhir yang diketahui), backward fill (mengisi dengan nilai berikutnya yang tersedia), atau menggunakan metode interpolasi seperti interpolasi linear, polynomial, atau spline. Pemilihan metode untuk mengisi missing value tergantung dari karakteristik data dan tujuan alanlisis yang sedang kita lakukan.\n",
    "\n",
    "Dengan menggunakan fungsi resample pada Python, kita dapat dengan mudah memanipulasi frekuensi data datatime sesuai kebutuhan kita. Hal ini sangat berguna saat melakukan analisa ataupun menampilkan visualisasi data dengan berbagai frekuensi waktu."
   ]
  }
 ],
 "metadata": {
  "kernelspec": {
   "display_name": "base",
   "language": "python",
   "name": "python3"
  },
  "language_info": {
   "codemirror_mode": {
    "name": "ipython",
    "version": 3
   },
   "file_extension": ".py",
   "mimetype": "text/x-python",
   "name": "python",
   "nbconvert_exporter": "python",
   "pygments_lexer": "ipython3",
   "version": "3.9.13"
  },
  "orig_nbformat": 4
 },
 "nbformat": 4,
 "nbformat_minor": 2
}
